{
  "nbformat": 4,
  "nbformat_minor": 0,
  "metadata": {
    "colab": {
      "provenance": [],
      "authorship_tag": "ABX9TyNl8KMJKakG3TkaT5TeKvBz",
      "include_colab_link": true
    },
    "kernelspec": {
      "name": "python3",
      "display_name": "Python 3"
    },
    "language_info": {
      "name": "python"
    }
  },
  "cells": [
    {
      "cell_type": "markdown",
      "metadata": {
        "id": "view-in-github",
        "colab_type": "text"
      },
      "source": [
        "<a href=\"https://colab.research.google.com/github/EderLara/Fundamentos-Big-Data/blob/main/Identificaci%C3%B3n_de_Patrones%2C_Correlaciones_y_Outliers.ipynb\" target=\"_parent\"><img src=\"https://colab.research.google.com/assets/colab-badge.svg\" alt=\"Open In Colab\"/></a>"
      ]
    },
    {
      "cell_type": "markdown",
      "source": [
        "# Patrones\n",
        "\n",
        "\n"
      ],
      "metadata": {
        "id": "QAZ0qZ22ySFO"
      }
    },
    {
      "cell_type": "markdown",
      "source": [
        "### `Patrones en Python`"
      ],
      "metadata": {
        "id": "ggsXVpNzyouA"
      }
    },
    {
      "cell_type": "code",
      "execution_count": null,
      "metadata": {
        "id": "sLyWwWIayId1"
      },
      "outputs": [],
      "source": [
        "import pandas as pd\n",
        "from sklearn.cluster import KMeans\n",
        "import matplotlib.pyplot as plt\n",
        "\n",
        "# Datos de ejemplo (comportamiento de compra de clientes)\n",
        "data = {\n",
        "    'cliente_id': [1, 2, 3, 4, 5, 6, 7, 8, 9, 10],\n",
        "    'compras_totales': [10, 5, 20, 15, 30, 8, 25, 12, 18, 35],\n",
        "    'gasto_total': [100, 50, 200, 150, 300, 80, 250, 120, 180, 350]\n",
        "}\n",
        "df = pd.DataFrame(data)\n",
        "\n",
        "# Agrupamiento K-means\n",
        "kmeans = KMeans(n_clusters=3)\n",
        "df['cluster'] = kmeans.fit_predict(df[['compras_totales', 'gasto_total']])\n",
        "\n",
        "# Visualización\n",
        "plt.scatter(df['compras_totales'], df['gasto_total'], c=df['cluster'])\n",
        "plt.xlabel('Compras Totales')\n",
        "plt.ylabel('Gasto Total')\n",
        "plt.title('Agrupación de Clientes')\n",
        "plt.show()\n",
        "print(df)"
      ]
    },
    {
      "cell_type": "markdown",
      "source": [
        "### Patrones en SQL\n",
        "\n",
        "\n",
        "\n",
        "```\n",
        "   # Agrupar clientes por región y contar el número de clientes en cada grupo\n",
        "    SELECT region, COUNT(*) AS num_clientes\n",
        "    FROM clientes\n",
        "    GROUP BY region;  \n",
        "```\n",
        "\n"
      ],
      "metadata": {
        "id": "oxj5NiiXzUXc"
      }
    },
    {
      "cell_type": "markdown",
      "source": [
        "### Patrones en R\n",
        "\n",
        "\n",
        "\n",
        "```\n",
        "  # Datos de ejemplo (comportamiento de compra de clientes)\n",
        "    data <- data.frame(\n",
        "        cliente_id = 1:10,\n",
        "        compras_totales = c(10, 5, 20, 15, 30, 8, 25, 12, 18, 35),\n",
        "        gasto_total = c(100, 50, 200, 150, 300, 80, 250, 120, 180, 350)\n",
        "    )\n",
        "\n",
        "    # Agrupamiento K-means\n",
        "    kmeans <- kmeans(data[, c(\"compras_totales\", \"gasto_total\")], centers = 3)\n",
        "    data$cluster <- kmeans$cluster\n",
        "\n",
        "    # Visualización\n",
        "    plot(data$compras_totales, data$gasto_total, col = data$cluster, main = \"Agrupación de Clientes\", xlab = \"Compras Totales\", ylab = \"Gasto Total\")\n",
        "    print(data)\n",
        "```\n",
        "\n"
      ],
      "metadata": {
        "id": "Ta3WFWMhzBsg"
      }
    },
    {
      "cell_type": "markdown",
      "source": [
        "# Correlaciones"
      ],
      "metadata": {
        "id": "a2X8Gb_xznFg"
      }
    },
    {
      "cell_type": "markdown",
      "source": [
        "### Correlaciones en Python:"
      ],
      "metadata": {
        "id": "m-sjE1iwz6j1"
      }
    },
    {
      "cell_type": "code",
      "source": [
        "import pandas as pd\n",
        "import seaborn as sns\n",
        "import matplotlib.pyplot as plt\n",
        "\n",
        "# Datos de ejemplo (gasto en publicidad y ventas)\n",
        "data = {\n",
        "    'publicidad': [100, 150, 200, 250, 300],\n",
        "    'ventas': [150, 180, 220, 280, 350]\n",
        "}\n",
        "df = pd.DataFrame(data)\n",
        "\n",
        "# Matriz de correlación\n",
        "correlation_matrix = df.corr()\n",
        "\n",
        "# Visualización\n",
        "sns.heatmap(correlation_matrix, annot=True)\n",
        "plt.title('Matriz de Correlación')\n",
        "plt.show()"
      ],
      "metadata": {
        "id": "MqI1vx5gz55Q"
      },
      "execution_count": null,
      "outputs": []
    },
    {
      "cell_type": "markdown",
      "source": [
        "### Correlaciones en R:\n",
        "\n",
        "\n",
        "```\n",
        "    # Datos de ejemplo (gasto en publicidad y ventas)\n",
        "    data <- data.frame(\n",
        "        publicidad = c(100, 150, 200, 250, 300),\n",
        "        ventas = c(150, 180, 220, 280, 350)\n",
        "    )\n",
        "\n",
        "    # Calcular la correlación\n",
        "    correlation <- cor(data$publicidad, data$ventas)\n",
        "    print(correlation)\n",
        "\n",
        "    # Visualización\n",
        "    plot(data$publicidad, data$ventas, main = \"Correlación entre Publicidad y Ventas\", xlab = \"Publicidad\", ylab = \"Ventas\")\n",
        "```\n",
        "\n"
      ],
      "metadata": {
        "id": "771hpZZn0-Tc"
      }
    },
    {
      "cell_type": "markdown",
      "source": [
        "# Outliers:\n"
      ],
      "metadata": {
        "id": "c40mNBwx1J-L"
      }
    },
    {
      "cell_type": "markdown",
      "source": [
        "### Outliers en python"
      ],
      "metadata": {
        "id": "bu53XdTR1SPD"
      }
    },
    {
      "cell_type": "code",
      "source": [
        "import pandas as pd\n",
        "import seaborn as sns\n",
        "import matplotlib.pyplot as plt\n",
        "\n",
        "# Datos de ejemplo (transacciones financieras)\n",
        "data = {'transaccion': [100, 120, 150, 180, 200, 500]}\n",
        "df = pd.DataFrame(data)\n",
        "\n",
        "# Calcular IQR\n",
        "Q1 = df['transaccion'].quantile(0.25)\n",
        "Q3 = df['transaccion'].quantile(0.75)\n",
        "# rango intercuartílico (IQR):\n",
        "IQR = Q3 - Q1\n",
        "\n",
        "# Identificar outliers\n",
        "outliers = df[(df['transaccion'] < Q1 - 1.5 * IQR) | (df['transaccion'] > Q3 + 1.5 * IQR)]\n",
        "\n",
        "# Visualización\n",
        "sns.boxplot(x=df['transaccion'])\n",
        "plt.title('Boxplot de Transacciones')\n",
        "plt.show()\n",
        "\n",
        "print(outliers)"
      ],
      "metadata": {
        "id": "1JzGdiLP08eF"
      },
      "execution_count": null,
      "outputs": []
    },
    {
      "cell_type": "markdown",
      "source": [
        "### Outliers en R:\n",
        "\n",
        "\n",
        "\n",
        "```\n",
        "    # Datos de ejemplo (transacciones financieras)\n",
        "    data <- data.frame(transaccion = c(100, 120, 150, 180, 200, 500))\n",
        "\n",
        "    # Calcular IQR\n",
        "    Q1 <- quantile(data$transaccion, 0.25)\n",
        "    Q3 <- quantile(data$transaccion, 0.75)\n",
        "    IQR <- Q3 - Q1\n",
        "\n",
        "    # Identificar outliers\n",
        "    outliers <- data[data$transaccion < Q1 - 1.5 * IQR | data$transaccion > Q3 + 1.5 * IQR, ]\n",
        "\n",
        "    # Visualización\n",
        "    boxplot(data$transaccion, main = \"Boxplot de Transacciones\")\n",
        "\n",
        "    print(outliers)\n",
        "```\n",
        "\n"
      ],
      "metadata": {
        "id": "PMTrwpQs1rra"
      }
    }
  ]
}