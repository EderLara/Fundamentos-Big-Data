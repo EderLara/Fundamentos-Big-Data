{
  "nbformat": 4,
  "nbformat_minor": 0,
  "metadata": {
    "colab": {
      "provenance": [],
      "authorship_tag": "ABX9TyNGw61AUR5+M6UmOEi2DrU2",
      "include_colab_link": true
    },
    "kernelspec": {
      "name": "python3",
      "display_name": "Python 3"
    },
    "language_info": {
      "name": "python"
    }
  },
  "cells": [
    {
      "cell_type": "markdown",
      "metadata": {
        "id": "view-in-github",
        "colab_type": "text"
      },
      "source": [
        "<a href=\"https://colab.research.google.com/github/EderLara/Fundamentos-Big-Data/blob/main/Procesamiento_de_Datos_con_Python.ipynb\" target=\"_parent\"><img src=\"https://colab.research.google.com/assets/colab-badge.svg\" alt=\"Open In Colab\"/></a>"
      ]
    },
    {
      "cell_type": "markdown",
      "source": [
        "# Procesamiento de datos con Python"
      ],
      "metadata": {
        "id": "tJpbz2MbDCPV"
      }
    },
    {
      "cell_type": "code",
      "execution_count": 3,
      "metadata": {
        "id": "fBClmrrdI57Q"
      },
      "outputs": [],
      "source": [
        "# 1: Preparamos usamos las librerias necesarias y las importamos\n",
        "# !pip install --upgrade pandas\n",
        "import pandas as pd"
      ]
    },
    {
      "cell_type": "code",
      "source": [
        "# 2: Leemos los archivos de excel, montandolos en dataframe independiente:\n",
        "df1 = pd.read_excel(\"Ventas_2018.xlsx\")\n",
        "df2 = pd.read_excel(\"Ventas_2019.xlsx\")\n",
        "df3 = pd.read_excel(\"Ventas_2020.xlsx\")\n",
        "df4 = pd.read_excel(\"Ventas_2021.xlsx\")\n",
        "df5 = pd.read_excel(\"Ventas_2022.xlsx\")"
      ],
      "metadata": {
        "id": "9BL_seNwDXT9"
      },
      "execution_count": 4,
      "outputs": []
    },
    {
      "cell_type": "code",
      "source": [
        "# 3: Combinamos los dataframes usando la funcón concat:\n",
        "df_combinado = pd.concat([df1, df2, df3, df4, df5])"
      ],
      "metadata": {
        "id": "y-Wzt0MRE1Hb"
      },
      "execution_count": 5,
      "outputs": []
    },
    {
      "cell_type": "code",
      "source": [
        "# 4: Nos aseguramos que el dataframe resultante se guarde en el repo de archivos:\n",
        "df_combinado.to_excel(\"ventas_combinado.xlsx\", index=False)"
      ],
      "metadata": {
        "id": "kpnXmYEDFGB2"
      },
      "execution_count": 6,
      "outputs": []
    }
  ]
}