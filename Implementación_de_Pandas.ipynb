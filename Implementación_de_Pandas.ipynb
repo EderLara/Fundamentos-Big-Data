{
  "nbformat": 4,
  "nbformat_minor": 0,
  "metadata": {
    "colab": {
      "provenance": [],
      "authorship_tag": "ABX9TyNWXs2wEfAlx16K4L0UrmQZ",
      "include_colab_link": true
    },
    "kernelspec": {
      "name": "python3",
      "display_name": "Python 3"
    },
    "language_info": {
      "name": "python"
    }
  },
  "cells": [
    {
      "cell_type": "markdown",
      "metadata": {
        "id": "view-in-github",
        "colab_type": "text"
      },
      "source": [
        "<a href=\"https://colab.research.google.com/github/EderLara/Fundamentos-Big-Data/blob/main/Implementaci%C3%B3n_de_Pandas.ipynb\" target=\"_parent\"><img src=\"https://colab.research.google.com/assets/colab-badge.svg\" alt=\"Open In Colab\"/></a>"
      ]
    },
    {
      "cell_type": "code",
      "execution_count": null,
      "metadata": {
        "id": "z_g6FH0tBdex"
      },
      "outputs": [],
      "source": [
        "\"\"\"\n",
        "    1. Creación del Dataset\n",
        "    Generamos un DataFrame con datos aleatorios de ventas,\n",
        "    incluyendo fechas, productos, categorías, cantidades, precios y descuentos.\n",
        "\"\"\"\n",
        "\n",
        "import pandas as pd\n",
        "import numpy as np\n",
        "import matplotlib.pyplot as plt\n",
        "import seaborn as sns\n",
        "\n",
        "# Generar datos aleatorios\n",
        "np.random.seed(42)            # Para reproducibilidad\n",
        "fechas = pd.date_range(start='2023-01-01', periods=30)\n",
        "productos = ['Producto A', 'Producto B', 'Producto C', 'Producto D', 'Producto E']\n",
        "categorias = ['Electrónica', 'Ropa', 'Hogar', 'Deportes', 'Alimentos']\n",
        "data = {\n",
        "    'Fecha': fechas,\n",
        "    'Producto': np.random.choice(productos, 30),\n",
        "    'Categoria': np.random.choice(categorias, 30),\n",
        "    'Cantidad': np.random.randint(1, 20, 30),\n",
        "    'Precio': np.random.uniform(10, 200, 30).round(2),\n",
        "    'Descuento': np.random.uniform(0, 0.3, 30).round(2)\n",
        "}\n",
        "\n",
        "df = pd.DataFrame(data)\n",
        "\n",
        "# Calcular el total de ventas\n",
        "df['Total_Ventas'] = df['Cantidad'] * df['Precio'] * (1 - df['Descuento'])\n",
        "\n",
        "print(df.head())"
      ]
    },
    {
      "cell_type": "code",
      "source": [
        "\"\"\"\n",
        "  2. Análisis Exploratorio de Datos (EDA):\n",
        "  Calculamos estadísticas descriptivas,\n",
        "  mostramos información del DataFrame,\n",
        "  identificamos valores únicos y valores faltantes.\n",
        "\"\"\"\n",
        "# Estadísticas descriptivas\n",
        "print(df.describe())\n",
        "\n",
        "# Información del DataFrame\n",
        "print(df.info())\n",
        "\n",
        "# Valores únicos en columnas categóricas\n",
        "print(df['Producto'].unique())\n",
        "print(df['Categoria'].unique())\n",
        "\n",
        "# Valores faltantes\n",
        "print(df.isnull().sum())"
      ],
      "metadata": {
        "id": "QFzF0J-dBolZ"
      },
      "execution_count": null,
      "outputs": []
    },
    {
      "cell_type": "code",
      "source": [
        "\"\"\"\n",
        "  3. Manipulación de Datos:\n",
        "  Agrupamos y calculamos totales por categoría y producto,\n",
        "  agregamos una columna con el día de la semana y filtramos ventas por categoría.\n",
        "\"\"\"\n",
        "# Agrupar por categoría y calcular el total de ventas\n",
        "ventas_por_categoria = df.groupby('Categoria')['Total_Ventas'].sum().sort_values(ascending=False)\n",
        "print(ventas_por_categoria)\n",
        "\n",
        "# Agrupar por producto y calcular la cantidad total vendida\n",
        "cantidad_por_producto = df.groupby('Producto')['Cantidad'].sum().sort_values(ascending=False)\n",
        "print(cantidad_por_producto)\n",
        "\n",
        "# Agregar una columna con el día de la semana\n",
        "df['Dia_Semana'] = df['Fecha'].dt.day_name()\n",
        "\n",
        "# Filtrar ventas de la categoría 'Electrónica'\n",
        "electronica_ventas = df[df['Categoria'] == 'Electrónica']\n",
        "print(electronica_ventas)"
      ],
      "metadata": {
        "id": "AO9qif13Bp5-"
      },
      "execution_count": null,
      "outputs": []
    },
    {
      "cell_type": "code",
      "source": [
        "\"\"\"\n",
        "  4. Visualización de Datos:\n",
        "  Creamos gráficos de barras para ventas por categoría y cantidad por producto,\n",
        "  un gráfico de líneas para ventas diarias, un histograma para la distribución de precios y\n",
        "  un scatter plot para la relación entre cantidad y ventas.\n",
        "\"\"\"\n",
        "# Ventas totales por categoría (gráfico de barras)\n",
        "plt.figure(figsize=(10, 6))\n",
        "sns.barplot(x=ventas_por_categoria.index, y=ventas_por_categoria.values)\n",
        "plt.title('Ventas Totales por Categoría')\n",
        "plt.xlabel('Categoría')\n",
        "plt.ylabel('Ventas Totales')\n",
        "plt.xticks(rotation=45)\n",
        "plt.show()\n",
        "\n",
        "# Cantidad total vendida por producto (gráfico de barras)\n",
        "plt.figure(figsize=(10, 6))\n",
        "sns.barplot(x=cantidad_por_producto.index, y=cantidad_por_producto.values)\n",
        "plt.title('Cantidad Total Vendida por Producto')\n",
        "plt.xlabel('Producto')\n",
        "plt.ylabel('Cantidad Total')\n",
        "plt.xticks(rotation=45)\n",
        "plt.show()\n",
        "\n",
        "# Ventas a lo largo del tiempo (gráfico de líneas)\n",
        "ventas_diarias = df.groupby('Fecha')['Total_Ventas'].sum()\n",
        "plt.figure(figsize=(12, 6))\n",
        "plt.plot(ventas_diarias.index, ventas_diarias.values)\n",
        "plt.title('Ventas Diarias')\n",
        "plt.xlabel('Fecha')\n",
        "plt.ylabel('Ventas Totales')\n",
        "plt.xticks(rotation=45)\n",
        "plt.tight_layout()\n",
        "plt.show()\n",
        "\n",
        "# Distribución de precios (histograma)\n",
        "plt.figure(figsize=(8, 6))\n",
        "sns.histplot(df['Precio'], bins=20, kde=True)\n",
        "plt.title('Distribución de Precios')\n",
        "plt.xlabel('Precio')\n",
        "plt.ylabel('Frecuencia')\n",
        "plt.show()\n",
        "\n",
        "# Relación entre cantidad y total de ventas (scatter plot)\n",
        "plt.figure(figsize=(8, 6))\n",
        "sns.scatterplot(x='Cantidad', y='Total_Ventas', data=df)\n",
        "plt.title('Relación entre Cantidad y Total de Ventas')\n",
        "plt.xlabel('Cantidad')\n",
        "plt.ylabel('Total de Ventas')\n",
        "plt.show()"
      ],
      "metadata": {
        "id": "FyT7UdlICGsK"
      },
      "execution_count": null,
      "outputs": []
    }
  ]
}