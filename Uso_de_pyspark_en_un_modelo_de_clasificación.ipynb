{
  "nbformat": 4,
  "nbformat_minor": 0,
  "metadata": {
    "colab": {
      "provenance": [],
      "authorship_tag": "ABX9TyN9qTz5smefu9STJPzzcXhy",
      "include_colab_link": true
    },
    "kernelspec": {
      "name": "python3",
      "display_name": "Python 3"
    },
    "language_info": {
      "name": "python"
    }
  },
  "cells": [
    {
      "cell_type": "markdown",
      "metadata": {
        "id": "view-in-github",
        "colab_type": "text"
      },
      "source": [
        "<a href=\"https://colab.research.google.com/github/EderLara/Fundamentos-Big-Data/blob/main/Uso_de_pyspark_en_un_modelo_de_clasificaci%C3%B3n.ipynb\" target=\"_parent\"><img src=\"https://colab.research.google.com/assets/colab-badge.svg\" alt=\"Open In Colab\"/></a>"
      ]
    },
    {
      "cell_type": "code",
      "execution_count": 1,
      "metadata": {
        "id": "28d5Q29En0Ll"
      },
      "outputs": [],
      "source": [
        "from pyspark.sql import SparkSession\n",
        "from pyspark.ml.feature import StringIndexer, VectorAssembler\n",
        "from pyspark.ml.classification import LogisticRegression\n",
        "from pyspark.ml.evaluation import BinaryClassificationEvaluator\n",
        "from pyspark.ml import Pipeline\n",
        "\n",
        "# Crear una sesión de Spark\n",
        "spark = SparkSession.builder.appName(\"SimpleClassification\").getOrCreate()"
      ]
    },
    {
      "cell_type": "code",
      "source": [
        "# Crear un DataFrame de ejemplo\n",
        "data = spark.createDataFrame([\n",
        "    (1.0, \"A\", 0),\n",
        "    (2.0, \"B\", 1),\n",
        "    (3.0, \"A\", 0),\n",
        "    (4.0, \"C\", 1),\n",
        "    (5.0, \"B\", 0)\n",
        "], [\"feature1\", \"categorical_feature\", \"label\"])\n",
        "\n",
        "# Definir las etapas del pipeline\n",
        "indexer = StringIndexer(inputCol=\"categorical_feature\", outputCol=\"indexed_feature\")\n",
        "assembler = VectorAssembler(inputCols=[\"feature1\", \"indexed_feature\"], outputCol=\"features\")\n",
        "lr = LogisticRegression(featuresCol=\"features\", labelCol=\"label\")"
      ],
      "metadata": {
        "id": "BOVZ0kwVu0ye"
      },
      "execution_count": 2,
      "outputs": []
    },
    {
      "cell_type": "code",
      "source": [
        "# Crear el pipeline\n",
        "pipeline = Pipeline(stages=[indexer, assembler, lr])\n",
        "\n",
        "# Entrenar el pipeline\n",
        "model = pipeline.fit(data)\n",
        "\n",
        "# Hacer predicciones\n",
        "predictions = model.transform(data)\n",
        "predictions.select(\"label\", \"probability\", \"prediction\").show()\n",
        "\n",
        "# Evaluar el modelo\n",
        "evaluator = BinaryClassificationEvaluator(labelCol=\"label\")\n",
        "auc = evaluator.evaluate(predictions)\n",
        "print(f\"AUC: {auc}\")\n",
        "\n",
        "# Detener la sesión de Spark\n",
        "spark.stop()"
      ],
      "metadata": {
        "colab": {
          "base_uri": "https://localhost:8080/"
        },
        "id": "2KbVVSbuu3bU",
        "outputId": "f9ecd60d-f176-4d7e-bf25-20095317ce26"
      },
      "execution_count": 3,
      "outputs": [
        {
          "output_type": "stream",
          "name": "stdout",
          "text": [
            "+-----+--------------------+----------+\n",
            "|label|         probability|prediction|\n",
            "+-----+--------------------+----------+\n",
            "|    0|[0.99999996942479...|       0.0|\n",
            "|    1|[2.73168288742007...|       1.0|\n",
            "|    0|           [1.0,0.0]|       0.0|\n",
            "|    1|[3.76052346746478...|       1.0|\n",
            "|    0|[0.99999999182448...|       0.0|\n",
            "+-----+--------------------+----------+\n",
            "\n",
            "AUC: 1.0\n"
          ]
        }
      ]
    }
  ]
}